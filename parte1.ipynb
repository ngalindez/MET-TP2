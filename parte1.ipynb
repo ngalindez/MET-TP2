{
    "cells": [
        {
            "cell_type": "code",
            "execution_count": 14,
            "id": "d9eef14c",
            "metadata": {},
            "outputs": [],
            "source": [
                "import numpy as np\n",
                "import matplotlib.pyplot as plt\n",
                "from process_images import *\n",
                "from numpy_to_pandas import numpy_to_pandas_dataset"
            ]
        },
        {
            "cell_type": "code",
            "execution_count": 15,
            "id": "3d44a4ce",
            "metadata": {},
            "outputs": [
                {
                    "data": {
                        "text/plain": [
                            "Index(['pixel_00000', 'pixel_00001', 'pixel_00002', 'pixel_00003',\n",
                            "       'pixel_00004', 'pixel_00005', 'pixel_00006', 'pixel_00007',\n",
                            "       'pixel_00008', 'pixel_00009',\n",
                            "       ...\n",
                            "       'pixel_16375', 'pixel_16376', 'pixel_16377', 'pixel_16378',\n",
                            "       'pixel_16379', 'pixel_16380', 'pixel_16381', 'pixel_16382',\n",
                            "       'pixel_16383', 'label'],\n",
                            "      dtype='object', length=16385)"
                        ]
                    },
                    "execution_count": 15,
                    "metadata": {},
                    "output_type": "execute_result"
                }
            ],
            "source": [
                "data = np.load(\"processed_dataset.npz\")\n",
                "df = numpy_to_pandas_dataset(\"processed_dataset.npz\")\n",
                "df.columns"
            ]
        },
        {
            "cell_type": "markdown",
            "id": "e383a382",
            "metadata": {},
            "source": [
                "Ahora tenemos en df un DataFrame con las siguientes columnas:\n",
                "- pixel_00000 - pixel_16383: 16384 (128x128) columnas, una para cada pixel, con un valor 0-255 de la escala de grises\n",
                "- label: 0 si es Healthy, 1 si es Parkinson"
            ]
        },
        {
            "cell_type": "code",
            "execution_count": 16,
            "id": "train_test_split_numpy",
            "metadata": {},
            "outputs": [
                {
                    "name": "stdout",
                    "output_type": "stream",
                    "text": [
                        "Dataset completo: 1632 muestras\n",
                        "Train set: 1306 muestras (80.0%)\n",
                        "Test set: 326 muestras (20.0%)\n",
                        "\n",
                        "Distribución de clases en train:\n",
                        "  - Healthy (0): 637\n",
                        "  - Parkinson (1): 669\n",
                        "\n",
                        "Distribución de clases en test:\n",
                        "  - Healthy (0): 179\n",
                        "  - Parkinson (1): 147\n"
                    ]
                }
            ],
            "source": [
                "# Dividimos el dataset en datos de entrenamiento y datos de test (80/20) - SIN SKLEARN\n",
                "\n",
                "# Separar features (píxeles) y target (label)\n",
                "X = df.drop('label', axis=1).values  # Convertir a numpy array\n",
                "y = df['label'].values               # Convertir a numpy array\n",
                "\n",
                "# Configuración del split\n",
                "test_size = 0.2\n",
                "random_state = 42\n",
                "np.random.seed(random_state)  # Para reproducibilidad\n",
                "\n",
                "# Obtener índices aleatorios\n",
                "n_samples = len(X)\n",
                "n_test = int(n_samples * test_size)\n",
                "indices = np.random.permutation(n_samples)\n",
                "\n",
                "# Dividir índices\n",
                "test_indices = indices[:n_test]\n",
                "train_indices = indices[n_test:]\n",
                "\n",
                "# Crear splits\n",
                "X_train = X[train_indices]\n",
                "X_test = X[test_indices]\n",
                "y_train = y[train_indices]\n",
                "y_test = y[test_indices]\n",
                "\n",
                "print(f\"Dataset completo: {len(X)} muestras\")\n",
                "print(f\"Train set: {len(X_train)} muestras ({len(X_train)/len(X)*100:.1f}%)\")\n",
                "print(f\"Test set: {len(X_test)} muestras ({len(X_test)/len(X)*100:.1f}%)\")\n",
                "print(f\"\\nDistribución de clases en train:\")\n",
                "print(f\"  - Healthy (0): {np.sum(y_train == 0)}\")\n",
                "print(f\"  - Parkinson (1): {np.sum(y_train == 1)}\")\n",
                "print(f\"\\nDistribución de clases en test:\")\n",
                "print(f\"  - Healthy (0): {np.sum(y_test == 0)}\")\n",
                "print(f\"  - Parkinson (1): {np.sum(y_test == 1)}\")"
            ]
        },
        {
            "cell_type": "code",
            "execution_count": 17,
            "id": "b5b8dd02",
            "metadata": {},
            "outputs": [],
            "source": [
                "def predict(X, w, b):\n",
                "    z = X @ w + b\n",
                "    return (np.tanh(z) + 1)/2"
            ]
        },
        {
            "cell_type": "code",
            "execution_count": 18,
            "id": "a5d03c4d",
            "metadata": {},
            "outputs": [],
            "source": [
                "def gradiente(X, y, w, b):\n",
                "    f = predict(X, w, b)\n",
                "    error = f - y\n",
                "    sech2 = 1 - np.tanh(z)**2\n",
                "\n",
                "    z = X @ w + b\n",
                "    grad_w = (error * (sech2)) @ X\n",
                "    grad_b = np.sum(error * (sech2))\n",
                "\n",
                "    return grad_w, grad_b"
            ]
        },
        {
            "cell_type": "code",
            "execution_count": 19,
            "id": "0fe5517f",
            "metadata": {},
            "outputs": [],
            "source": [
                "def loss(y_pred, y_true):\n",
                "    return np.sum((y_pred - y_true) ** 2)"
            ]
        },
        {
            "cell_type": "code",
            "execution_count": 20,
            "id": "70938571",
            "metadata": {},
            "outputs": [],
            "source": [
                "def gradient_descent(X, y, w, b, alpha, num_epochs):\n",
                "    # Inicializamos los parámetros\n",
                "    w = np.random.randn(X.shape[1]) * 0.01\n",
                "    b = 0.0\n",
                "\n",
                "    # Para visualizar convergencia\n",
                "    loss_history = []\n",
                "\n",
                "    for epoch in range(num_epochs):\n",
                "        y_pred = predict(X, w, b)\n",
                "        loss_value = loss(y_pred, y)\n",
                "        loss_history.append(loss_value)\n",
                "        grad_w, grad_b = gradiente(X, y, w, b)\n",
                "\n",
                "        # Actualizamos parámetros\n",
                "        w -= alpha * grad_w\n",
                "        b -= alpha * grad_b\n",
                "    \n",
                "        # Vamos imprimiendo el progreso\n",
                "        if epoch % 100 == 0:\n",
                "            print(f\"Epoch {epoch}: Loss = {loss_value:.4f}\")"
            ]
        }
    ],
    "metadata": {
        "kernelspec": {
            "display_name": "Python 3",
            "language": "python",
            "name": "python3"
        },
        "language_info": {
            "codemirror_mode": {
                "name": "ipython",
                "version": 3
            },
            "file_extension": ".py",
            "mimetype": "text/x-python",
            "name": "python",
            "nbconvert_exporter": "python",
            "pygments_lexer": "ipython3",
            "version": "3.9.6"
        }
    },
    "nbformat": 4,
    "nbformat_minor": 5
}
